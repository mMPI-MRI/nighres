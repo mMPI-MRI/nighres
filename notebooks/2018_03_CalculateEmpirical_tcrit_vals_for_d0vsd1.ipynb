{
 "cells": [
  {
   "cell_type": "code",
   "execution_count": 1,
   "metadata": {
    "collapsed": true
   },
   "outputs": [],
   "source": [
    "## determine how to create empirical distributions and calculate stats based on them\n",
    "# for comparison of null effect (eg, d0 vs d1 in plasticity study) to effect (e.g., d1 vs d2)\n"
   ]
  },
  {
   "cell_type": "code",
   "execution_count": 10,
   "metadata": {},
   "outputs": [
    {
     "name": "stdout",
     "output_type": "stream",
     "text": [
      "Populating the interactive namespace from numpy and matplotlib\n"
     ]
    }
   ],
   "source": [
    "import numpy as np\n",
    "import scipy.stats as stats\n",
    "%pylab inline"
   ]
  },
  {
   "cell_type": "code",
   "execution_count": 103,
   "metadata": {},
   "outputs": [
    {
     "data": {
      "text/plain": [
       "<matplotlib.legend.Legend at 0x7fa3d15cb630>"
      ]
     },
     "execution_count": 103,
     "metadata": {},
     "output_type": "execute_result"
    },
    {
     "data": {
      "image/png": "[encoded data removed]",
      "text/plain": [
       "<matplotlib.figure.Figure at 0x7fa3d2143da0>"
      ]
     },
     "metadata": {},
     "output_type": "display_data"
    }
   ],
   "source": [
    "np.random.seed(19750908)\n",
    "d1 = np.random.randn(100000)\n",
    "d2 = np.random.randn(100000)+1\n",
    "h1 = plt.hist(d1,bins=100,label='d1',alpha=0.2)\n",
    "h2 = plt.hist(d2,bins=100,label='d2',alpha=0.2)\n",
    "plt.legend()"
   ]
  },
  {
   "cell_type": "code",
   "execution_count": 116,
   "metadata": {},
   "outputs": [
    {
     "name": "stdout",
     "output_type": "stream",
     "text": [
      "t-crit +/- : 1.9533805569 / -1.9723691933\n"
     ]
    }
   ],
   "source": [
    "## calculate the t-crit values given the empirical distribution (where d1 is the d0vsd1 comparison)\n",
    "#another way, using percentiles\n",
    "alpha = 0.025\n",
    "pctl = 100-(alpha*100)\n",
    "\n",
    "t_crit_pos = np.percentile(d1,pctl,interpolation='linear')\n",
    "t_crit_neg = np.percentile(d1,100-pctl,interpolation='linear')\n",
    "\n",
    "print(\"t-crit +/- : {0:.10f} / {1:.10f}\".format(t_crit_pos,t_crit_neg))"
   ]
  },
  {
   "cell_type": "code",
   "execution_count": 115,
   "metadata": {},
   "outputs": [
    {
     "name": "stdout",
     "output_type": "stream",
     "text": [
      "0.00255\n"
     ]
    }
   ],
   "source": [
    "# proportion greater than a given stat\n",
    "alpha = 0.025 #p-value cut-off for 2-tailed test\n",
    "t_stat = np.abs(3) #np.abs(d1[1])\n",
    "n_samples = len(d1)\n",
    "d1_abs = np.abs(d1)\n",
    "prop_greater = np.sum(d1_abs > t_stat)/n_samples #equals the prob. that a value greater than t_stat comes from this distribution\n",
    "print(prop_greater)\n"
   ]
  },
  {
   "cell_type": "code",
   "execution_count": 109,
   "metadata": {},
   "outputs": [
    {
     "data": {
      "text/plain": [
       "-1.9723691933056635"
      ]
     },
     "execution_count": 109,
     "metadata": {},
     "output_type": "execute_result"
    }
   ],
   "source": [
    "np.percentile(d1,100-pctl,interpolation='linear')"
   ]
  },
  {
   "cell_type": "code",
   "execution_count": 36,
   "metadata": {},
   "outputs": [
    {
     "data": {
      "image/png": "[encoded data removed]",
      "text/plain": [
       "<matplotlib.figure.Figure at 0x7fa3d21aeb38>"
      ]
     },
     "metadata": {},
     "output_type": "display_data"
    }
   ],
   "source": [
    "#https://stackoverflow.com/questions/15792552/numpy-scipy-equivalent-of-r-ecdfxx-function/15792672\n",
    "import numpy as np\n",
    "import matplotlib.pyplot as plt\n",
    "from statsmodels.distributions.empirical_distribution import ECDF\n",
    "%matplotlib inline\n",
    "\n",
    "grades = (93.5,93,60.8,94.5,82,87.5,91.5,99.5,86,93.5,92.5,78,76,69,94.5,\n",
    "          89.5,92.8,78,65.5,98,98.5,92.3,95.5,76,91,95,61)\n",
    "grades = d1\n",
    "\n",
    "def ecdf(x):\n",
    "    xs = np.sort(x)\n",
    "    ys = np.arange(1, len(xs)+1)/float(len(xs))\n",
    "    return xs, ys\n",
    "\n",
    "plt.figure(figsize=(10,10))\n",
    "xs, ys = ecdf(grades)\n",
    "plt.plot(xs, ys, label=\"handwritten\", marker=\">\", markerfacecolor='none')\n",
    "cdf = ECDF(grades)\n",
    "plt.plot(cdf.x, cdf.y, label=\"statmodels\", marker=\"<\", markerfacecolor='none')\n",
    "plt.legend()\n",
    "plt.show()"
   ]
  },
  {
   "cell_type": "code",
   "execution_count": 37,
   "metadata": {},
   "outputs": [
    {
     "name": "stdout",
     "output_type": "stream",
     "text": [
      "5.94 ms ± 47 µs per loop (mean ± std. dev. of 7 runs, 100 loops each)\n",
      "5.96 ms ± 27.6 µs per loop (mean ± std. dev. of 7 runs, 100 loops each)\n"
     ]
    }
   ],
   "source": [
    "%timeit ECDF(grades)\n",
    "%timeit ecdf(grades)"
   ]
  },
  {
   "cell_type": "code",
   "execution_count": 47,
   "metadata": {
    "collapsed": true
   },
   "outputs": [],
   "source": [
    "def find_nearest(array,value):\n",
    "    \"\"\" if array is sorted, scales with size\"\"\"\n",
    "    idx = np.searchsorted(array, value, side=\"left\")\n",
    "    if idx > 0 and (idx == len(array) or math.fabs(value - array[idx-1]) < math.fabs(value - array[idx])):\n",
    "        return array[idx-1]\n",
    "    else:\n",
    "        return array[idx]"
   ]
  },
  {
   "cell_type": "code",
   "execution_count": 62,
   "metadata": {},
   "outputs": [
    {
     "name": "stdout",
     "output_type": "stream",
     "text": [
      "0.4953600000000001\n",
      "0.49536\n"
     ]
    }
   ],
   "source": [
    "## find the proportion of \n",
    "value = -.01\n",
    "print(cdf(value))\n",
    "print(ys[np.where(xs==find_nearest(xs,value))[0][0]]) #"
   ]
  },
  {
   "cell_type": "code",
   "execution_count": null,
   "metadata": {
    "collapsed": true
   },
   "outputs": [],
   "source": []
  }
 ],
 "metadata": {
  "kernelspec": {
   "display_name": "Python 3",
   "language": "python",
   "name": "python3"
  },
  "language_info": {
   "codemirror_mode": {
    "name": "ipython",
    "version": 3
   },
   "file_extension": ".py",
   "mimetype": "text/x-python",
   "name": "python",
   "nbconvert_exporter": "python",
   "pygments_lexer": "ipython3",
   "version": "3.6.3"
  }
 },
 "nbformat": 4,
 "nbformat_minor": 2
}
